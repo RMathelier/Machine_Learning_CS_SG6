{
 "cells": [
  {
   "cell_type": "markdown",
   "metadata": {},
   "source": [
    "### Mini-projet réalisé par Robin Mathelier, Adam Ismaili, Charles Raffegeau et Théo Dupuis dans le cadre du cours de Machine Learning de deuxième année à CentraleSupélec\n",
    "Le but est ici de prendre en main des algorithmes de Machine Learning.\n",
    "Nous nous intéressons à la prédiction de maladies cardio-vasculaires."
   ]
  },
  {
   "cell_type": "code",
   "execution_count": 1,
   "metadata": {},
   "outputs": [],
   "source": [
    "import pandas as pd\n",
    "import numpy as np\n",
    "import matplotlib.pyplot as plt\n",
    "\n",
    "from sklearn.model_selection import train_test_split\n",
    "from sklearn.linear_model import LogisticRegression\n",
    "from sklearn.model_selection import GridSearchCV\n",
    "from sklearn.metrics import confusion_matrix\n",
    "from sklearn.preprocessing import StandardScaler\n",
    "from sklearn.metrics import precision_score,recall_score,confusion_matrix\n",
    "from sklearn.metrics import precision_recall_curve\n",
    "from sklearn.metrics import recall_score\n",
    "from sklearn.model_selection import cross_val_predict\n",
    "from sklearn.ensemble import GradientBoostingClassifier\n",
    "from sklearn.model_selection import cross_val_predict\n",
    "from sklearn.metrics import precision_score"
   ]
  },
  {
   "cell_type": "code",
   "execution_count": 2,
   "metadata": {},
   "outputs": [],
   "source": [
    "data = pd.read_csv(r'C:\\Users\\robin\\Dropbox\\Datasets\\data_cardio.csv', sep = ',')"
   ]
  },
  {
   "cell_type": "code",
   "execution_count": 3,
   "metadata": {},
   "outputs": [
    {
     "data": {
      "text/html": [
       "<div>\n",
       "<style scoped>\n",
       "    .dataframe tbody tr th:only-of-type {\n",
       "        vertical-align: middle;\n",
       "    }\n",
       "\n",
       "    .dataframe tbody tr th {\n",
       "        vertical-align: top;\n",
       "    }\n",
       "\n",
       "    .dataframe thead th {\n",
       "        text-align: right;\n",
       "    }\n",
       "</style>\n",
       "<table border=\"1\" class=\"dataframe\">\n",
       "  <thead>\n",
       "    <tr style=\"text-align: right;\">\n",
       "      <th></th>\n",
       "      <th>age</th>\n",
       "      <th>weight</th>\n",
       "      <th>height</th>\n",
       "      <th>cholesterol1</th>\n",
       "      <th>cholesterol2</th>\n",
       "      <th>cholesterol3</th>\n",
       "      <th>AP0</th>\n",
       "      <th>AP1</th>\n",
       "      <th>AP2</th>\n",
       "      <th>AP3</th>\n",
       "      <th>cardio</th>\n",
       "    </tr>\n",
       "  </thead>\n",
       "  <tbody>\n",
       "    <tr>\n",
       "      <td>0</td>\n",
       "      <td>-0.436062</td>\n",
       "      <td>-0.847873</td>\n",
       "      <td>0.443452</td>\n",
       "      <td>1.0</td>\n",
       "      <td>0.0</td>\n",
       "      <td>0.0</td>\n",
       "      <td>1</td>\n",
       "      <td>0</td>\n",
       "      <td>0</td>\n",
       "      <td>0</td>\n",
       "      <td>0</td>\n",
       "    </tr>\n",
       "    <tr>\n",
       "      <td>1</td>\n",
       "      <td>0.307686</td>\n",
       "      <td>0.749831</td>\n",
       "      <td>-1.018168</td>\n",
       "      <td>0.0</td>\n",
       "      <td>0.0</td>\n",
       "      <td>1.0</td>\n",
       "      <td>0</td>\n",
       "      <td>0</td>\n",
       "      <td>1</td>\n",
       "      <td>0</td>\n",
       "      <td>1</td>\n",
       "    </tr>\n",
       "    <tr>\n",
       "      <td>2</td>\n",
       "      <td>-0.247997</td>\n",
       "      <td>-0.708942</td>\n",
       "      <td>0.078047</td>\n",
       "      <td>0.0</td>\n",
       "      <td>0.0</td>\n",
       "      <td>1.0</td>\n",
       "      <td>0</td>\n",
       "      <td>0</td>\n",
       "      <td>1</td>\n",
       "      <td>0</td>\n",
       "      <td>1</td>\n",
       "    </tr>\n",
       "    <tr>\n",
       "      <td>3</td>\n",
       "      <td>-0.748152</td>\n",
       "      <td>0.541435</td>\n",
       "      <td>0.565254</td>\n",
       "      <td>1.0</td>\n",
       "      <td>0.0</td>\n",
       "      <td>0.0</td>\n",
       "      <td>0</td>\n",
       "      <td>0</td>\n",
       "      <td>0</td>\n",
       "      <td>1</td>\n",
       "      <td>1</td>\n",
       "    </tr>\n",
       "    <tr>\n",
       "      <td>4</td>\n",
       "      <td>-0.808543</td>\n",
       "      <td>-1.264666</td>\n",
       "      <td>-1.018168</td>\n",
       "      <td>1.0</td>\n",
       "      <td>0.0</td>\n",
       "      <td>0.0</td>\n",
       "      <td>1</td>\n",
       "      <td>0</td>\n",
       "      <td>0</td>\n",
       "      <td>0</td>\n",
       "      <td>0</td>\n",
       "    </tr>\n",
       "  </tbody>\n",
       "</table>\n",
       "</div>"
      ],
      "text/plain": [
       "        age    weight    height  cholesterol1  cholesterol2  cholesterol3  \\\n",
       "0 -0.436062 -0.847873  0.443452           1.0           0.0           0.0   \n",
       "1  0.307686  0.749831 -1.018168           0.0           0.0           1.0   \n",
       "2 -0.247997 -0.708942  0.078047           0.0           0.0           1.0   \n",
       "3 -0.748152  0.541435  0.565254           1.0           0.0           0.0   \n",
       "4 -0.808543 -1.264666 -1.018168           1.0           0.0           0.0   \n",
       "\n",
       "   AP0  AP1  AP2  AP3  cardio  \n",
       "0    1    0    0    0       0  \n",
       "1    0    0    1    0       1  \n",
       "2    0    0    1    0       1  \n",
       "3    0    0    0    1       1  \n",
       "4    1    0    0    0       0  "
      ]
     },
     "execution_count": 3,
     "metadata": {},
     "output_type": "execute_result"
    }
   ],
   "source": [
    "data.head()"
   ]
  },
  {
   "cell_type": "code",
   "execution_count": 4,
   "metadata": {},
   "outputs": [
    {
     "data": {
      "text/plain": [
       "(70000, 11)"
      ]
     },
     "execution_count": 4,
     "metadata": {},
     "output_type": "execute_result"
    }
   ],
   "source": [
    "data.shape"
   ]
  },
  {
   "cell_type": "code",
   "execution_count": 5,
   "metadata": {},
   "outputs": [
    {
     "data": {
      "text/plain": [
       "((70000, 10), (70000,))"
      ]
     },
     "execution_count": 5,
     "metadata": {},
     "output_type": "execute_result"
    }
   ],
   "source": [
    "X = data.iloc[:,:-1]\n",
    "Y = data.iloc[:,-1]\n",
    "X.shape,Y.shape"
   ]
  },
  {
   "cell_type": "code",
   "execution_count": 6,
   "metadata": {},
   "outputs": [
    {
     "data": {
      "text/plain": [
       "array([[-0.43606151, -0.84787326,  0.44345206, ..., -0.08186426,\n",
       "        -0.46681992, -0.44455065],\n",
       "       [ 0.30768633,  0.74983117, -1.01816804, ..., -0.08186426,\n",
       "         2.14215367, -0.44455065],\n",
       "       [-0.24799666, -0.70894244,  0.07804703, ..., -0.08186426,\n",
       "         2.14215367, -0.44455065],\n",
       "       ...,\n",
       "       [-0.16328642,  2.13913938,  2.27047718, ..., -0.08186426,\n",
       "        -0.46681992,  2.24946246],\n",
       "       [ 1.20058905, -0.15321916, -0.16555632, ..., -0.08186426,\n",
       "         2.14215367, -0.44455065],\n",
       "       [ 0.43414373, -0.15321916,  0.68705541, ..., -0.08186426,\n",
       "        -0.46681992, -0.44455065]])"
      ]
     },
     "execution_count": 6,
     "metadata": {},
     "output_type": "execute_result"
    }
   ],
   "source": [
    "scaler = StandardScaler()\n",
    "scaler.fit(X)\n",
    "X = scaler.transform(X)\n",
    "X"
   ]
  },
  {
   "cell_type": "code",
   "execution_count": 7,
   "metadata": {},
   "outputs": [],
   "source": [
    "x_train,x_test,y_train,y_test = train_test_split(X,Y,test_size = 0.25)"
   ]
  },
  {
   "cell_type": "code",
   "execution_count": 8,
   "metadata": {},
   "outputs": [
    {
     "data": {
      "text/plain": [
       "(52500, 10)"
      ]
     },
     "execution_count": 8,
     "metadata": {},
     "output_type": "execute_result"
    }
   ],
   "source": [
    "x_train.shape"
   ]
  },
  {
   "cell_type": "code",
   "execution_count": 9,
   "metadata": {},
   "outputs": [],
   "source": [
    "# Regression Logistique"
   ]
  },
  {
   "cell_type": "code",
   "execution_count": 10,
   "metadata": {},
   "outputs": [
    {
     "name": "stdout",
     "output_type": "stream",
     "text": [
      "0.6868612712595475\n",
      "Best Penalty: l1\n",
      "Best C: 12.5\n"
     ]
    }
   ],
   "source": [
    "clf = LogisticRegression(solver = 'liblinear', multi_class = 'ovr',max_iter = 300)\n",
    "\n",
    "C = list(np.linspace(10,20,5))\n",
    "grid_values = {'penalty': ['l1', 'l2'],'C':C}\n",
    "grid_clf_acc = GridSearchCV(estimator=clf, param_grid = grid_values,n_jobs=-1,cv=5, scoring = 'f1')\n",
    "grid_clf_acc.fit(x_train, y_train)\n",
    "\n",
    "best_score_reg= grid_clf_acc.best_score_ \n",
    "print(best_score_reg)\n",
    "\n",
    "print('Best Penalty:', grid_clf_acc.best_estimator_.get_params()['penalty'])\n",
    "print('Best C:', grid_clf_acc.best_estimator_.get_params()['C'])"
   ]
  },
  {
   "cell_type": "code",
   "execution_count": 11,
   "metadata": {},
   "outputs": [],
   "source": [
    "y_pred_log_reg = grid_clf_acc.predict(x_test)"
   ]
  },
  {
   "cell_type": "code",
   "execution_count": 12,
   "metadata": {},
   "outputs": [
    {
     "name": "stderr",
     "output_type": "stream",
     "text": [
      "C:\\Users\\robin\\Anaconda3\\lib\\site-packages\\ipykernel_launcher.py:7: MatplotlibDeprecationWarning: Unrecognized location 'upper_right'. Falling back on 'best'; valid locations are\n",
      "\tbest\n",
      "\tupper right\n",
      "\tupper left\n",
      "\tlower left\n",
      "\tlower right\n",
      "\tright\n",
      "\tcenter left\n",
      "\tcenter right\n",
      "\tlower center\n",
      "\tupper center\n",
      "\tcenter\n",
      "This will raise an exception in 3.3.\n",
      "  import sys\n"
     ]
    },
    {
     "data": {
      "image/png": "[encoded data removed]",
      "text/plain": [
       "<Figure size 432x288 with 1 Axes>"
      ]
     },
     "metadata": {
      "needs_background": "light"
     },
     "output_type": "display_data"
    }
   ],
   "source": [
    "predictions = cross_val_predict(clf,x_train,y_train,cv=5)\n",
    "precisions,recalls,thresholds = precision_recall_curve(y_test,y_pred_log_reg)\n",
    "def plot_precision_recall_curve(precision,recall,thres):\n",
    "    plt.plot(thres,precisions[:-1],label='precision')\n",
    "    plt.plot(thres,recalls[:-1],label='recall')\n",
    "    plt.ylim([0,1])\n",
    "    plt.legend(loc='upper_right')\n",
    "plot_precision_recall_curve(precisions,recalls,thresholds)\n",
    "plt.show()"
   ]
  },
  {
   "cell_type": "code",
   "execution_count": 13,
   "metadata": {},
   "outputs": [
    {
     "data": {
      "text/plain": [
       "array([[6825, 1919],\n",
       "       [3203, 5553]], dtype=int64)"
      ]
     },
     "execution_count": 13,
     "metadata": {},
     "output_type": "execute_result"
    }
   ],
   "source": [
    "conf_mat = confusion_matrix(y_test,y_pred_log_reg)\n",
    "conf_mat"
   ]
  },
  {
   "cell_type": "code",
   "execution_count": 14,
   "metadata": {},
   "outputs": [
    {
     "name": "stdout",
     "output_type": "stream",
     "text": [
      "Accuracy for test set = 0.7073142857142857\n"
     ]
    }
   ],
   "source": [
    "print('Accuracy for test set = {}'.format((conf_mat[0][0] + conf_mat[1][1])/len(y_test)))"
   ]
  },
  {
   "cell_type": "code",
   "execution_count": 15,
   "metadata": {},
   "outputs": [
    {
     "data": {
      "text/plain": [
       "array([[6427, 2317],\n",
       "       [2682, 6074]], dtype=int64)"
      ]
     },
     "execution_count": 15,
     "metadata": {},
     "output_type": "execute_result"
    }
   ],
   "source": [
    "GDB = GradientBoostingClassifier()\n",
    "GDB.fit(x_train,y_train)\n",
    "y_pred_GBC = GDB.predict(x_test)\n",
    "conf_mat = confusion_matrix(y_test,y_pred_GBC)\n",
    "conf_mat"
   ]
  },
  {
   "cell_type": "code",
   "execution_count": 16,
   "metadata": {},
   "outputs": [
    {
     "name": "stdout",
     "output_type": "stream",
     "text": [
      "0.7168952380952381\n",
      "Best learning rate: 0.1\n",
      "Best min_samples_split: 2\n"
     ]
    }
   ],
   "source": [
    "GDB = GradientBoostingClassifier()\n",
    "#grid_params = {'loss' : ['deviance','exponential']},'learning_rate' : list(np.linspace(0.01,10,10)),'min_samples_split': [150,200,250,300,350,400,450],'max_depth': [4,5,6,7],'n_estimators':[50,75,100,125,150]}\n",
    "grid_params = {'learning_rate' : list(np.linspace(0.1,10,10)),'min_samples_split': [2,3]}\n",
    "grid_GBC = GridSearchCV(estimator = GDB,param_grid = grid_params, scoring = 'accuracy',cv=5)\n",
    "grid_GBC.fit(x_train,y_train)\n",
    "best_score_reg= grid_GBC.best_score_ \n",
    "print(best_score_reg)\n",
    "\n",
    "#print('Best loss:', grid_GBC.best_estimator_.get_params()['loss'])\n",
    "print('Best learning rate:', grid_GBC.best_estimator_.get_params()['learning_rate'])\n",
    "print('Best min_samples_split:', grid_GBC.best_estimator_.get_params()['min_samples_split'])\n",
    "#print('Best max_depth:', grid_GBC.best_estimator_.get_params()['max_depth'])\n",
    "#print('Best n_estimators:', grid_GBC.best_estimator_.get_params()['n_estimators'])"
   ]
  },
  {
   "cell_type": "code",
   "execution_count": 17,
   "metadata": {},
   "outputs": [
    {
     "name": "stdout",
     "output_type": "stream",
     "text": [
      "0.7168952380952381\n",
      "Best learning rate: 0.1\n",
      "Best min_samples_split: 2\n"
     ]
    }
   ],
   "source": [
    "GDB = GradientBoostingClassifier(learning_rate = 0.1)\n",
    "GDB.fit(x_train,y_train)\n",
    "best_score_reg= grid_GBC.best_score_ \n",
    "print(best_score_reg)\n",
    "\n",
    "#print('Best loss:', grid_GBC.best_estimator_.get_params()['loss'])\n",
    "print('Best learning rate:', grid_GBC.best_estimator_.get_params()['learning_rate'])\n",
    "print('Best min_samples_split:', grid_GBC.best_estimator_.get_params()['min_samples_split'])\n",
    "#print('Best max_depth:', grid_GBC.best_estimator_.get_params()['max_depth'])\n",
    "#print('Best n_estimators:', grid_GBC.best_estimator_.get_params()['n_estimators'])"
   ]
  },
  {
   "cell_type": "code",
   "execution_count": 18,
   "metadata": {},
   "outputs": [
    {
     "data": {
      "text/plain": [
       "array([[6427, 2317],\n",
       "       [2682, 6074]], dtype=int64)"
      ]
     },
     "execution_count": 18,
     "metadata": {},
     "output_type": "execute_result"
    }
   ],
   "source": [
    "y_pred_GDB = GDB.predict(x_test)\n",
    "conf_mat = confusion_matrix(y_test,y_pred_GDB)\n",
    "conf_mat"
   ]
  },
  {
   "cell_type": "code",
   "execution_count": 20,
   "metadata": {},
   "outputs": [
    {
     "data": {
      "text/plain": [
       "0.6936957514846962"
      ]
     },
     "execution_count": 20,
     "metadata": {},
     "output_type": "execute_result"
    }
   ],
   "source": [
    "recall_score(y_test,y_pred_GDB)"
   ]
  },
  {
   "cell_type": "code",
   "execution_count": 21,
   "metadata": {},
   "outputs": [
    {
     "name": "stderr",
     "output_type": "stream",
     "text": [
      "C:\\Users\\robin\\Anaconda3\\lib\\site-packages\\ipykernel_launcher.py:7: MatplotlibDeprecationWarning: Unrecognized location 'upper_right'. Falling back on 'best'; valid locations are\n",
      "\tbest\n",
      "\tupper right\n",
      "\tupper left\n",
      "\tlower left\n",
      "\tlower right\n",
      "\tright\n",
      "\tcenter left\n",
      "\tcenter right\n",
      "\tlower center\n",
      "\tupper center\n",
      "\tcenter\n",
      "This will raise an exception in 3.3.\n",
      "  import sys\n"
     ]
    },
    {
     "data": {
      "image/png": "[encoded data removed]",
      "text/plain": [
       "<Figure size 432x288 with 1 Axes>"
      ]
     },
     "metadata": {
      "needs_background": "light"
     },
     "output_type": "display_data"
    }
   ],
   "source": [
    "predictions = cross_val_predict(GDB,x_train,y_train,cv=5)\n",
    "precisions,recalls,thresholds = precision_recall_curve(y_test,y_pred_log_reg)\n",
    "def plot_precision_recall_curve(precision,recall,thres):\n",
    "    plt.plot(thres,precisions[:-1],label='precision')\n",
    "    plt.plot(thres,recalls[:-1],label='recall')\n",
    "    plt.ylim([0,1])\n",
    "    plt.legend(loc='upper_right')\n",
    "plot_precision_recall_curve(precisions,recalls,thresholds)\n",
    "plt.show()"
   ]
  },
  {
   "cell_type": "code",
   "execution_count": 22,
   "metadata": {},
   "outputs": [
    {
     "name": "stdout",
     "output_type": "stream",
     "text": [
      "(17500,)\n"
     ]
    }
   ],
   "source": [
    "y_pred_GDB_proba = GDB.predict_proba(x_test)\n",
    "print(y_pred_GDB_proba[:,1].shape)"
   ]
  },
  {
   "cell_type": "code",
   "execution_count": 23,
   "metadata": {},
   "outputs": [
    {
     "data": {
      "text/plain": [
       "17500"
      ]
     },
     "execution_count": 23,
     "metadata": {},
     "output_type": "execute_result"
    }
   ],
   "source": [
    "y_pred_thres = []\n",
    "for x in list(y_pred_GDB_proba[:,1]) :\n",
    "    if x < 0.34 :\n",
    "        y_pred_thres += [0]\n",
    "    else :\n",
    "        y_pred_thres += [1]\n",
    "#print(y_pred_thres)\n",
    "y_pred_GDB_thres = np.array(y_pred_thres)\n",
    "len(y_pred_thres)\n"
   ]
  },
  {
   "cell_type": "code",
   "execution_count": 24,
   "metadata": {},
   "outputs": [
    {
     "data": {
      "text/plain": [
       "array([[4423, 4321],\n",
       "       [1331, 7425]], dtype=int64)"
      ]
     },
     "execution_count": 24,
     "metadata": {},
     "output_type": "execute_result"
    }
   ],
   "source": [
    "conf_mat = confusion_matrix(y_test,y_pred_thres)\n",
    "conf_mat"
   ]
  },
  {
   "cell_type": "code",
   "execution_count": 25,
   "metadata": {},
   "outputs": [
    {
     "data": {
      "text/plain": [
       "0.8479899497487438"
      ]
     },
     "execution_count": 25,
     "metadata": {},
     "output_type": "execute_result"
    }
   ],
   "source": [
    "recall_score(y_test,y_pred_thres)"
   ]
  },
  {
   "cell_type": "code",
   "execution_count": 26,
   "metadata": {},
   "outputs": [
    {
     "data": {
      "text/plain": [
       "0.6321300868380725"
      ]
     },
     "execution_count": 26,
     "metadata": {},
     "output_type": "execute_result"
    }
   ],
   "source": [
    "precision_score(y_test,y_pred_thres)"
   ]
  },
  {
   "cell_type": "code",
   "execution_count": null,
   "metadata": {},
   "outputs": [],
   "source": []
  }
 ],
 "metadata": {
  "kernelspec": {
   "display_name": "Python 3",
   "language": "python",
   "name": "python3"
  },
  "language_info": {
   "codemirror_mode": {
    "name": "ipython",
    "version": 3
   },
   "file_extension": ".py",
   "mimetype": "text/x-python",
   "name": "python",
   "nbconvert_exporter": "python",
   "pygments_lexer": "ipython3",
   "version": "3.7.4"
  }
 },
 "nbformat": 4,
 "nbformat_minor": 2
}
